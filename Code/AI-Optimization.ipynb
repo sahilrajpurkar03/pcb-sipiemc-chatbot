{
 "cells": [
  {
   "cell_type": "code",
   "execution_count": 2,
   "id": "5bda1e7e-ee56-4629-b5fb-4e884ef14087",
   "metadata": {},
   "outputs": [],
   "source": [
    "import numpy as np\n",
    "import pandas as pd\n",
    "import matplotlib.pyplot as plt\n",
    "from tensorflow import keras\n",
    "from pymoo.core.problem import Problem\n",
    "from pymoo.algorithms.soo.nonconvex.ga import GA\n",
    "from pymoo.optimize import minimize\n",
    "from time import time as tm"
   ]
  },
  {
   "cell_type": "code",
   "execution_count": 3,
   "id": "3886eead-8f1c-4b96-a3ba-a69d7c13b76f",
   "metadata": {},
   "outputs": [],
   "source": [
    "df_learning_dataset = pd.read_csv(\"../Data/Learning_Dataset.csv\")"
   ]
  },
  {
   "cell_type": "code",
   "execution_count": 4,
   "id": "a0cc8f45-e955-4379-9fb5-a23210186a75",
   "metadata": {},
   "outputs": [],
   "source": [
    "y_data = np.array(df_learning_dataset.iloc[:,[6,7,8,10]])\n",
    "x_data = np.array(df_learning_dataset.iloc[:,[0,1,2,3]])"
   ]
  },
  {
   "cell_type": "code",
   "execution_count": 15,
   "id": "d00fb8b1-0e93-4dff-a3e4-13c3c7a3eec9",
   "metadata": {},
   "outputs": [],
   "source": [
    "wanted_feature_set = [1,0,1,0]"
   ]
  },
  {
   "cell_type": "code",
   "execution_count": 16,
   "id": "7d0b46e0-e365-4b99-b82d-6e46b4a865e5",
   "metadata": {},
   "outputs": [
    {
     "name": "stdout",
     "output_type": "stream",
     "text": [
      "WARNING:tensorflow:SavedModel saved prior to TF 2.5 detected when loading Keras model. Please ensure that you are saving the model with model.save() or tf.keras.models.save_model(), *NOT* tf.saved_model.save(). To confirm, there should be a file named \"keras_metadata.pb\" in the SavedModel directory.\n"
     ]
    }
   ],
   "source": [
    "model = keras.models.load_model(\"../Models/NN\")"
   ]
  },
  {
   "cell_type": "code",
   "execution_count": 17,
   "id": "efd8ef74-8042-420d-9ba1-10a7c5d97822",
   "metadata": {},
   "outputs": [],
   "source": [
    "# Define single-objective Optimization Problem\n",
    "\n",
    "class MyProblem(Problem):\n",
    "\n",
    "    def __init__(self):\n",
    "        super().__init__(n_var=4,\n",
    "                         n_obj=1,\n",
    "                         xl=0.0,\n",
    "                         xu=1.0)\n",
    "\n",
    "    def _evaluate(self, x, out, *args, **kwargs):\n",
    "        prediction = model.predict(x)\n",
    "        \n",
    "        function_values = np.zeros(prediction.shape[0])\n",
    "        for i in range(prediction.shape[0]):\n",
    "            function_values[i] = sum((abs(prediction[i]-wanted_feature_set)))\n",
    "        #print(function_values)\n",
    "        \n",
    "        out[\"F\"] = function_values\n",
    "        #print(out)\n",
    "        \n",
    "problem = MyProblem()"
   ]
  },
  {
   "cell_type": "code",
   "execution_count": 18,
   "id": "2fa12c71-6d5b-48d3-b6a6-783b7cd6e634",
   "metadata": {},
   "outputs": [],
   "source": [
    "# Choose Optimization Algorithm\n",
    "\n",
    "algorithm = GA(\n",
    "    pop_size=100,\n",
    "    save_history=True,\n",
    "    eliminate_duplicates=True)"
   ]
  },
  {
   "cell_type": "code",
   "execution_count": 19,
   "id": "4ed7aac8-5a86-45be-b07d-42b71b44665a",
   "metadata": {},
   "outputs": [
    {
     "name": "stdout",
     "output_type": "stream",
     "text": [
      "4/4 [==============================] - 0s 6ms/step\n",
      "4/4 [==============================] - 0s 5ms/step\n",
      "4/4 [==============================] - 0s 5ms/step\n",
      "4/4 [==============================] - 0s 6ms/step\n",
      "4/4 [==============================] - 0s 7ms/step\n",
      "4/4 [==============================] - 0s 4ms/step\n",
      "4/4 [==============================] - 0s 6ms/step\n",
      "4/4 [==============================] - 0s 6ms/step\n",
      "4/4 [==============================] - 0s 6ms/step\n",
      "4/4 [==============================] - 0s 6ms/step\n",
      "4/4 [==============================] - 0s 5ms/step\n",
      "4/4 [==============================] - 0s 0s/step\n",
      "4/4 [==============================] - 0s 0s/step\n",
      "4/4 [==============================] - 0s 6ms/step\n",
      "4/4 [==============================] - 0s 3ms/step\n",
      "4/4 [==============================] - 0s 3ms/step\n",
      "4/4 [==============================] - 0s 2ms/step\n",
      "4/4 [==============================] - 0s 6ms/step\n",
      "4/4 [==============================] - 0s 7ms/step\n",
      "4/4 [==============================] - 0s 3ms/step\n",
      "4/4 [==============================] - 0s 4ms/step\n",
      "4/4 [==============================] - 0s 4ms/step\n",
      "4/4 [==============================] - 0s 0s/step\n",
      "4/4 [==============================] - 0s 4ms/step\n",
      "4/4 [==============================] - 0s 4ms/step\n",
      "4/4 [==============================] - 0s 4ms/step\n",
      "4/4 [==============================] - 0s 7ms/step\n",
      "4/4 [==============================] - 0s 5ms/step\n",
      "4/4 [==============================] - 0s 4ms/step\n",
      "4/4 [==============================] - 0s 7ms/step\n",
      "4/4 [==============================] - 0s 4ms/step\n",
      "4/4 [==============================] - 0s 7ms/step\n",
      "4/4 [==============================] - 0s 5ms/step\n",
      "4/4 [==============================] - 0s 0s/step\n",
      "4/4 [==============================] - 0s 5ms/step\n",
      "4/4 [==============================] - 0s 6ms/step\n",
      "4/4 [==============================] - 0s 5ms/step\n",
      "4/4 [==============================] - 0s 3ms/step\n",
      "4/4 [==============================] - 0s 705us/step\n",
      "4/4 [==============================] - 0s 0s/step\n",
      "4/4 [==============================] - 0s 8ms/step\n",
      "4/4 [==============================] - 0s 5ms/step\n",
      "4/4 [==============================] - 0s 6ms/step\n",
      "4/4 [==============================] - 0s 413us/step\n",
      "4/4 [==============================] - 0s 6ms/step\n",
      "4/4 [==============================] - 0s 5ms/step\n",
      "4/4 [==============================] - 0s 0s/step\n",
      "4/4 [==============================] - 0s 2ms/step\n",
      "4/4 [==============================] - 0s 0s/step\n",
      "4/4 [==============================] - 0s 0s/step\n",
      "4/4 [==============================] - 0s 4ms/step\n",
      "4/4 [==============================] - 0s 332us/step\n",
      "4/4 [==============================] - 0s 3ms/step\n",
      "4/4 [==============================] - 0s 6ms/step\n",
      "4/4 [==============================] - 0s 3ms/step\n",
      "4/4 [==============================] - 0s 5ms/step\n",
      "4/4 [==============================] - 0s 183us/step\n",
      "4/4 [==============================] - 0s 2ms/step\n",
      "4/4 [==============================] - 0s 5ms/step\n",
      "4/4 [==============================] - 0s 4ms/step\n",
      "4/4 [==============================] - 0s 5ms/step\n",
      "4/4 [==============================] - 0s 0s/step\n",
      "4/4 [==============================] - 0s 5ms/step\n",
      "4/4 [==============================] - 0s 3ms/step\n",
      "4/4 [==============================] - 0s 0s/step\n",
      "4/4 [==============================] - 0s 0s/step\n",
      "4/4 [==============================] - 0s 2ms/step\n",
      "4/4 [==============================] - 0s 3ms/step\n",
      "4/4 [==============================] - 0s 4ms/step\n",
      "4/4 [==============================] - 0s 2ms/step\n",
      "4/4 [==============================] - 0s 4ms/step\n",
      "4/4 [==============================] - 0s 764us/step\n",
      "4/4 [==============================] - 0s 3ms/step\n",
      "4/4 [==============================] - 0s 4ms/step\n",
      "4/4 [==============================] - 0s 5ms/step\n",
      "4/4 [==============================] - 0s 6ms/step\n",
      "4/4 [==============================] - 0s 3ms/step\n",
      "4/4 [==============================] - 0s 0s/step\n",
      "4/4 [==============================] - 0s 0s/step\n",
      "4/4 [==============================] - 0s 5ms/step\n",
      "4/4 [==============================] - 0s 0s/step\n",
      "4/4 [==============================] - 0s 4ms/step\n",
      "4/4 [==============================] - 0s 6ms/step\n",
      "4/4 [==============================] - 0s 2ms/step\n",
      "Total runtime: 29.17 s\n",
      "Best solution found: \n",
      "X = [0.29543267 0.44804774 0.18246063 1.        ]\n",
      "F = [1.09764944]\n"
     ]
    }
   ],
   "source": [
    "# Optimize\n",
    "\n",
    "start_time = tm()\n",
    "\n",
    "res = minimize(problem,\n",
    "               algorithm,\n",
    "               seed=1,\n",
    "               verbose=False)\n",
    "\n",
    "runtime = round((tm()-start_time),2)\n",
    "print(\"Total runtime: \"+str(runtime)+\" s\")\n",
    "\n",
    "print(\"Best solution found: \\nX = %s\\nF = %s\" % (res.X, res.F))"
   ]
  },
  {
   "cell_type": "code",
   "execution_count": 20,
   "id": "781c9e71-3efd-4437-b54e-ccc5ddc37c9f",
   "metadata": {},
   "outputs": [
    {
     "name": "stdout",
     "output_type": "stream",
     "text": [
      "[0.29543267 0.44804774 0.18246063 1.        ]\n"
     ]
    }
   ],
   "source": [
    "print(res.X)"
   ]
  },
  {
   "cell_type": "code",
   "execution_count": 21,
   "id": "75c42b3a-b7c0-40e4-bb86-1d83ced5ebc4",
   "metadata": {},
   "outputs": [
    {
     "name": "stdout",
     "output_type": "stream",
     "text": [
      "[20.08942155 67.20716051 41.38612193 69.99999985]\n"
     ]
    }
   ],
   "source": [
    "x_retrans = res.X*(np.max(x_data, axis=0) - np.min(x_data, axis=0))+np.min(x_data, axis=0)\n",
    "print(x_retrans)"
   ]
  },
  {
   "cell_type": "code",
   "execution_count": 22,
   "id": "c1224de2-82d6-4f1e-82d3-1846ad617ddb",
   "metadata": {},
   "outputs": [
    {
     "data": {
      "image/png": "[encoded data removed]",
      "text/plain": [
       "<Figure size 640x480 with 1 Axes>"
      ]
     },
     "metadata": {},
     "output_type": "display_data"
    },
    {
     "data": {
      "text/html": [
       "<div>\n",
       "<style scoped>\n",
       "    .dataframe tbody tr th:only-of-type {\n",
       "        vertical-align: middle;\n",
       "    }\n",
       "\n",
       "    .dataframe tbody tr th {\n",
       "        vertical-align: top;\n",
       "    }\n",
       "\n",
       "    .dataframe thead th {\n",
       "        text-align: right;\n",
       "    }\n",
       "</style>\n",
       "<table border=\"1\" class=\"dataframe\">\n",
       "  <thead>\n",
       "    <tr style=\"text-align: right;\">\n",
       "      <th></th>\n",
       "      <th>0</th>\n",
       "      <th>1</th>\n",
       "      <th>2</th>\n",
       "    </tr>\n",
       "  </thead>\n",
       "  <tbody>\n",
       "    <tr>\n",
       "      <th>0</th>\n",
       "      <td>100.0</td>\n",
       "      <td>1.254835</td>\n",
       "      <td>1.980967</td>\n",
       "    </tr>\n",
       "    <tr>\n",
       "      <th>1</th>\n",
       "      <td>200.0</td>\n",
       "      <td>1.254835</td>\n",
       "      <td>1.575678</td>\n",
       "    </tr>\n",
       "    <tr>\n",
       "      <th>2</th>\n",
       "      <td>300.0</td>\n",
       "      <td>1.224085</td>\n",
       "      <td>1.405484</td>\n",
       "    </tr>\n",
       "    <tr>\n",
       "      <th>3</th>\n",
       "      <td>400.0</td>\n",
       "      <td>1.183341</td>\n",
       "      <td>1.306934</td>\n",
       "    </tr>\n",
       "    <tr>\n",
       "      <th>4</th>\n",
       "      <td>500.0</td>\n",
       "      <td>1.104558</td>\n",
       "      <td>1.256964</td>\n",
       "    </tr>\n",
       "  </tbody>\n",
       "</table>\n",
       "</div>"
      ],
      "text/plain": [
       "       0         1         2\n",
       "0  100.0  1.254835  1.980967\n",
       "1  200.0  1.254835  1.575678\n",
       "2  300.0  1.224085  1.405484\n",
       "3  400.0  1.183341  1.306934\n",
       "4  500.0  1.104558  1.256964"
      ]
     },
     "execution_count": 22,
     "metadata": {},
     "output_type": "execute_result"
    }
   ],
   "source": [
    "n_evals = np.array([e.evaluator.n_eval for e in res.history])\n",
    "opt = np.array([e.opt[0].F for e in res.history]).flatten()\n",
    "opt_F = np.array([e.pop.get(\"F\") for e in res.history])\n",
    "opt_avg = ([np.mean(e) for e in opt_F])\n",
    "\n",
    "plt.title(\"Convergence\")\n",
    "plt.plot(n_evals, opt, \"--\")\n",
    "plt.plot(n_evals, opt_avg, \":\")\n",
    "plt.yscale(\"log\")\n",
    "plt.show()\n",
    "\n",
    "#print(n_evals)\n",
    "#print(opt)\n",
    "#print(opt_avg)\n",
    "\n",
    "df_opt = pd.DataFrame([n_evals,opt,opt_avg]).T\n",
    "df_opt.head()"
   ]
  },
  {
   "cell_type": "code",
   "execution_count": null,
   "id": "c27ef0c6-9d4c-4964-9287-75ff18740b4b",
   "metadata": {},
   "outputs": [],
   "source": []
  }
 ],
 "metadata": {
  "kernelspec": {
   "display_name": "Python 3 (ipykernel)",
   "language": "python",
   "name": "python3"
  },
  "language_info": {
   "codemirror_mode": {
    "name": "ipython",
    "version": 3
   },
   "file_extension": ".py",
   "mimetype": "text/x-python",
   "name": "python",
   "nbconvert_exporter": "python",
   "pygments_lexer": "ipython3",
   "version": "3.9.13"
  }
 },
 "nbformat": 4,
 "nbformat_minor": 5
}
